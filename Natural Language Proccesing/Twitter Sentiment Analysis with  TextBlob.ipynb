{
 "cells": [
  {
   "cell_type": "markdown",
   "metadata": {},
   "source": [
    "# Twitter Sentiment Analysis\n",
    "In this example I show how to use Twitters Developer API to aquire real time Tweets by specifing Kewords. I am using the Natrual Language Proccesing libary TextBlob in order too understand the polarity and sujectivity of the respectif Tweets. \n",
    "\n",
    "**Import Dependcies and Authenticate**"
   ]
  },
  {
   "cell_type": "code",
   "execution_count": 1,
   "metadata": {
    "collapsed": false
   },
   "outputs": [],
   "source": [
    "import tweepy\n",
    "from textblob import TextBlob\n",
    "\n",
    "# Step 1 - Authenticate\n",
    "consumer_key= 'eds2M4bX4a7TVUfhvVQNx2kqv'\n",
    "consumer_secret= '5ukY7rBOSdnhdgCKgtnllrceknGZhCop3m8DtEZDuXk8S5dM6j'\n",
    "\n",
    "access_token='1724753030-2wTI90eF1iobvLSf7gGwJ98Mwo5hKgeDLEts3cX'\n",
    "access_token_secret='mCz0yTQllzKsESva54LFnyrHjWuo4KLFdl3btcRPRa12n'\n",
    "\n",
    "auth = tweepy.OAuthHandler(consumer_key, consumer_secret)\n",
    "auth.set_access_token(access_token, access_token_secret)\n",
    "\n",
    "api = tweepy.API(auth)"
   ]
  },
  {
   "cell_type": "markdown",
   "metadata": {},
   "source": [
    "## Retrieve Tweets"
   ]
  },
  {
   "cell_type": "code",
   "execution_count": 3,
   "metadata": {
    "collapsed": false
   },
   "outputs": [
    {
     "name": "stdout",
     "output_type": "stream",
     "text": [
      "RT @ArethadKitson: Your more likely to get killed by a White Domestic Terrorist than Muslim. Many people hate to admit that #Truth\n",
      "\"Get Tru…\n",
      "Sentiment(polarity=0.0, subjectivity=0.42857142857142855)\n",
      "\n",
      "A Note to Trump from a Swede: My Real Concern is Rise of Militant Anti-Muslim Neo-Nazis, Fascists https://t.co/TGcfJ7oR5c via @democracynow\n",
      "Sentiment(polarity=0.2, subjectivity=0.30000000000000004)\n",
      "\n",
      "RT @TommyGOP: @SandraTXAS @steingal2 I do not believe any muslim countries ever stated that Trump's policy were racist! only the MSM/Libs c…\n",
      "Sentiment(polarity=0.0, subjectivity=1.0)\n",
      "\n",
      "RT @TommyGOP: @SandraTXAS @steingal2 I do not believe any muslim countries ever stated that Trump's policy were racist! only the MSM/Libs c…\n",
      "Sentiment(polarity=0.0, subjectivity=1.0)\n",
      "\n",
      "RT @kylegriffin1: Trump appointee tweets abt \"some Muslim piece of shit\".\n",
      "\n",
      "Gets fired from Energy Dept after inquiries from @BuzzFeed https…\n",
      "Sentiment(polarity=-0.2, subjectivity=0.8)\n",
      "\n",
      "RT @SandraTXAS: No Israeli Jews EVER allowed in Muslim countries, but yeah, Trump is the racist 🙄\n",
      "\n",
      "#TravelBan\n",
      "#MuslimBan\n",
      "#MAGA\n",
      "#immigration…\n",
      "Sentiment(polarity=0.0, subjectivity=0.0)\n",
      "\n",
      "@realDonaldTrump A virulently anti-Muslim massage therapist in the Off. of Tech. Transitions at DOE - GREAT choice!\n",
      "\n",
      "https://t.co/ayUf8Eawrb\n",
      "Sentiment(polarity=1.0, subjectivity=0.75)\n",
      "\n",
      "RT @SandraTXAS: No Israeli Jews EVER allowed in Muslim countries, but yeah, Trump is the racist 🙄\n",
      "\n",
      "#TravelBan\n",
      "#MuslimBan\n",
      "#MAGA\n",
      "#immigration…\n",
      "Sentiment(polarity=0.0, subjectivity=0.0)\n",
      "\n",
      "RT @Impeach_D_Trump: Revised Trump's Muslim ban is still a Muslim ban. Let's call it by its rightful name.\n",
      "Sentiment(polarity=0.0, subjectivity=0.0)\n",
      "\n",
      "RT @coinabs: I STAND WITH PM #NETANYAHU + @POTUS #TRUMP \n",
      "\n",
      "AGAINST #ISLAMIC, #HAMAS, #ISIS, #HEZBOLAH, #MUSLIM BROS,  #IRAN TERROR \n",
      "\n",
      "AND ALL…\n",
      "Sentiment(polarity=0.0, subjectivity=0.0)\n",
      "\n",
      "RT @dcpoll: The woman Trump fired for defying him has been nominated for JFK Courage Award. #Hero Sally Yates 👏👏👏\n",
      "#AMJoy #maddow https://t.…\n",
      "Sentiment(polarity=0.0, subjectivity=0.0)\n",
      "\n",
      "RT @dcpoll: The woman Trump fired for defying him has been nominated for JFK Courage Award. #Hero Sally Yates 👏👏👏\n",
      "#AMJoy #maddow https://t.…\n",
      "Sentiment(polarity=0.0, subjectivity=0.0)\n",
      "\n",
      "RT @gaycivilrights: Trump Tapped Muslim-Hating Masseuse With No Relevant Experience To Help With Nuclear Weapons Research https://t.co/o3zs…\n",
      "Sentiment(polarity=-0.2, subjectivity=0.9)\n",
      "\n",
      "@jay_ambadi When Trump banned refugees judges defied but here not a muslim fielded EC and Courts mum, isn't anti constitutional?\n",
      "Sentiment(polarity=0.0, subjectivity=0.0)\n",
      "\n",
      "RT @grammy620: #Minnesota is against Trump's travel ban.. there is a HUGE Muslim population. It's like Little Islam. Waiting for Dearborn,…\n",
      "Sentiment(polarity=0.10625000000000004, subjectivity=0.7)\n",
      "\n"
     ]
    }
   ],
   "source": [
    "public_tweets = api.search('Muslim Trump')\n",
    "#CHALLENGE - Instead of printing out each tweet, save each Tweet to a CSV file\n",
    "#and label each one as either 'positive' or 'negative', depending on the sentiment\n",
    "#You can decide the sentiment polarity threshold yourself\n",
    "\n",
    "\n",
    "for tweet in public_tweets:\n",
    "    print(tweet.text)\n",
    "\n",
    "#Step 4 Perform Sentiment Analysis on Tweets\n",
    "    analysis = TextBlob(tweet.text)\n",
    "    print(analysis.sentiment)\n",
    "    print(\"\")"
   ]
  },
  {
   "cell_type": "markdown",
   "metadata": {
    "collapsed": true
   },
   "source": [
    "future functionality could include..."
   ]
  },
  {
   "cell_type": "code",
   "execution_count": 6,
   "metadata": {
    "collapsed": false
   },
   "outputs": [],
   "source": [
    "\n",
    "pub_tweet = api.search('Dhoni')\t\n",
    "outfile2 = open('tweetanalys1.csv','w')\t\t\t\t\t\t#File opened in write mode\n",
    "for tweet in pub_tweet:\t\t\t\t\t\t\t\t#A loop to go through all the tweets\n",
    "\tanalys = TextBlob(tweet.text)\t\t\t\t\t\t#Assiging the tweet to a varible in TextBlob\n",
    "\tif analys.sentiment.polarity >= 0:\t\t\t\t\t#Analysing the sentiment polarity if > 0 then positive\n",
    "\t\toutfile2.write(str(analys) + \"\\n\")\t\t\t\t#Writing the particular tweet to the file \n",
    "\t\toutfile2.write(\"Positive\" + \"\\n\")\t\t\t\t#Writing the label corresponding the status\n",
    "\telif analys.sentiment.polarity < 0:\t\t\t\t\t#Analysing the sentiment polarity if < 0 then negative\n",
    "\t\toutfile2.write(str(analys) + \"\\n\")\t\t\t\t#Writing the particular tweet to the file\n",
    "\t\toutfile2.write(\"Negative\" + \"\\n\")\t\t\t\t#Writing the label correspondingly\n",
    "outfile2.close()"
   ]
  },
  {
   "cell_type": "code",
   "execution_count": null,
   "metadata": {
    "collapsed": true
   },
   "outputs": [],
   "source": []
  }
 ],
 "metadata": {
  "anaconda-cloud": {},
  "kernelspec": {
   "display_name": "Python 3",
   "language": "python",
   "name": "python3"
  },
  "language_info": {
   "codemirror_mode": {
    "name": "ipython",
    "version": 3
   },
   "file_extension": ".py",
   "mimetype": "text/x-python",
   "name": "python",
   "nbconvert_exporter": "python",
   "pygments_lexer": "ipython3",
   "version": "3.6.0"
  }
 },
 "nbformat": 4,
 "nbformat_minor": 1
}
