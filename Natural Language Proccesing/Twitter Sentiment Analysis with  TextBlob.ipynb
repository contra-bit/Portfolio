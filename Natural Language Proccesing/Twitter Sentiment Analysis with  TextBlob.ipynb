{
 "cells": [
  {
   "cell_type": "markdown",
   "metadata": {},
   "source": [
    "___\n",
    "\n",
    "<a href='http://www.contra-bit.com/'> <img src='https://github.com/contra-bit/forty-jekyll-theme/raw/master/assets/images/logo-s.jpg' /></a>\n",
    "___\n",
    "# Twitter Sentiment Analysis\n",
    "In this example I show how to use Twitters Developer API to aquire real time Tweets by specifing Kewords. I am using the Natrual Language Proccesing libary TextBlob in order too understand the polarity and sujectivity of the respectiv Tweets. \n",
    "\n",
    "**Import Dependcies and Authenticate**"
   ]
  },
  {
   "cell_type": "code",
   "execution_count": 1,
   "metadata": {
    "collapsed": false
   },
   "outputs": [],
   "source": [
    "import tweepy\n",
    "from textblob import TextBlob\n",
    "\n",
    "# Step 1 - Authenticate\n",
    "consumer_key= 'API KEY'\n",
    "consumer_secret= 'API KEY'\n",
    "\n",
    "access_token='API KEY'\n",
    "access_token_secret='API KEY'\n",
    "\n",
    "auth = tweepy.OAuthHandler(consumer_key, consumer_secret)\n",
    "auth.set_access_token(access_token, access_token_secret)\n",
    "\n",
    "api = tweepy.API(auth)"
   ]
  },
  {
   "cell_type": "markdown",
   "metadata": {},
   "source": [
    "## Retrieve Tweets"
   ]
  },
  {
   "cell_type": "code",
   "execution_count": 6,
   "metadata": {
    "collapsed": false
   },
   "outputs": [
    {
     "name": "stdout",
     "output_type": "stream",
     "text": [
      "@weather_badr\n",
      "Sentiment(polarity=0.0, subjectivity=0.0)\n",
      "\n",
      "current weather in Lima: few clouds, 13°C\n",
      "78% humidity, wind 1kmh, pressure 876mb\n",
      "Sentiment(polarity=-0.1, subjectivity=0.25)\n",
      "\n",
      "RT @_CapeTownZA: current weather in Cape Town: clear sky, 21°C\n",
      "69% humidity, wind 5kmh, pressure 1022mb\n",
      "Sentiment(polarity=0.05000000000000001, subjectivity=0.39166666666666666)\n",
      "\n",
      "RT @aimeiji: never have i appreciated dallas food prices, streets, and weather more after leaving houston\n",
      "Sentiment(polarity=0.35, subjectivity=0.3)\n",
      "\n",
      "RT @ABC: Video shows lightning hit a house twice in Holiday, Texas after severe thunderstorms swept through the state. https://t.co/tKTgbmw…\n",
      "Sentiment(polarity=0.0, subjectivity=0.0)\n",
      "\n",
      "current weather in Belleville: light rain, 47°F\n",
      "75% humidity, wind 14mph, pressure 1015mb\n",
      "Sentiment(polarity=0.2, subjectivity=0.55)\n",
      "\n",
      "Wonderful weather i have today https://t.co/Rdscjkqy0l\n",
      "Sentiment(polarity=1.0, subjectivity=1.0)\n",
      "\n",
      "@YSR715 @JakeBerkshire88 Which it is, the weather changes wildly now. tropical climates get fucking cold now. that isn't normal.\n",
      "Sentiment(polarity=-0.11666666666666665, subjectivity=0.6833333333333332)\n",
      "\n",
      "The clear, sunny weather California the state’s solar power plants set a record, briefly generating enough electricity for 6 million homes.\n",
      "Sentiment(polarity=0.03333333333333334, subjectivity=0.4055555555555555)\n",
      "\n",
      "RT @fujitomo_info: 【ふじとも天気】2017年4月23日（日）の天気情報を更新しました。\n",
      "https://t.co/c8gxX8NITd\n",
      "（4月22日10時12分更新）\n",
      "Sentiment(polarity=0.0, subjectivity=0.0)\n",
      "\n",
      "As per weather, you'd feel like in London, unless you see a donkey cart in front of you 😂 #Lahore\n",
      "Sentiment(polarity=0.0, subjectivity=0.0)\n",
      "\n",
      ".@WhiteHouse @realDonaldTrump @ABC @CBSNews @NBCNightlyNews @CNN @Newsweek @PutinRF_Eng @GovernmentRF @FBI @Iran Co… https://t.co/vRXNr5ZvjK\n",
      "Sentiment(polarity=0.0, subjectivity=0.0)\n",
      "\n",
      "Wait...Why does my weather app says snow starts at 9:50am??\n",
      "Sentiment(polarity=0.0, subjectivity=0.0)\n",
      "\n",
      "@AmyFreeze7 amy the rainy weather is ok, just as long as your giving the forecast.\n",
      "Sentiment(polarity=0.225, subjectivity=0.45)\n",
      "\n",
      "@coolairwarmsun @bheadparkrun I can't take any credit for the weather, as welcome as the sunshine was, but thanks anyway. 😁\n",
      "Sentiment(polarity=0.5, subjectivity=0.55)\n",
      "\n"
     ]
    }
   ],
   "source": [
    "public_tweets = api.search('weather')\n",
    "#CHALLENGE - Instead of printing out each tweet, save each Tweet to a CSV file\n",
    "#and label each one as either 'positive' or 'negative', depending on the sentiment\n",
    "#You can decide the sentiment polarity threshold yourself\n",
    "\n",
    "\n",
    "for tweet in public_tweets:\n",
    "    print(tweet.text)\n",
    "\n",
    "#Step 4 Perform Sentiment Analysis on Tweets\n",
    "    analysis = TextBlob(tweet.text)\n",
    "    print(analysis.sentiment)\n",
    "    print(\"\")"
   ]
  },
  {
   "cell_type": "markdown",
   "metadata": {
    "collapsed": true
   },
   "source": [
    "future functionality could include..."
   ]
  },
  {
   "cell_type": "code",
   "execution_count": null,
   "metadata": {
    "collapsed": true
   },
   "outputs": [],
   "source": []
  }
 ],
 "metadata": {
  "anaconda-cloud": {},
  "kernelspec": {
   "display_name": "Python 3",
   "language": "python",
   "name": "python3"
  },
  "language_info": {
   "codemirror_mode": {
    "name": "ipython",
    "version": 3
   },
   "file_extension": ".py",
   "mimetype": "text/x-python",
   "name": "python",
   "nbconvert_exporter": "python",
   "pygments_lexer": "ipython3",
   "version": "3.6.0"
  }
 },
 "nbformat": 4,
 "nbformat_minor": 1
}
