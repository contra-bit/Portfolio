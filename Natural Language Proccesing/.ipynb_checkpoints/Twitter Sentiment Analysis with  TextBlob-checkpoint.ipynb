{
 "cells": [
  {
   "cell_type": "markdown",
   "metadata": {},
   "source": [
    "# Twitter Sentiment Analysis\n",
    "In this example I show how to use Twitters Developer API to aquire real time Tweets by specifing Kewords. I am using the Natrual Language Proccesing libary TextBlob in order too understand the polarity and sujectivity of the respectif Tweets. \n",
    "\n",
    "**Import Dependcies and Authenticate**"
   ]
  },
  {
   "cell_type": "code",
   "execution_count": 2,
   "metadata": {
    "collapsed": false
   },
   "outputs": [],
   "source": [
    "import tweepy\n",
    "from textblob import TextBlob\n",
    "\n",
    "# Step 1 - Authenticate\n",
    "consumer_key= 'eds2M4bX4a7TVUfhvVQNx2kqv'\n",
    "consumer_secret= '5ukY7rBOSdnhdgCKgtnllrceknGZhCop3m8DtEZDuXk8S5dM6j'\n",
    "\n",
    "access_token='1724753030-2wTI90eF1iobvLSf7gGwJ98Mwo5hKgeDLEts3cX'\n",
    "access_token_secret='mCz0yTQllzKsESva54LFnyrHjWuo4KLFdl3btcRPRa12n'\n",
    "\n",
    "auth = tweepy.OAuthHandler(consumer_key, consumer_secret)\n",
    "auth.set_access_token(access_token, access_token_secret)\n",
    "\n",
    "api = tweepy.API(auth)"
   ]
  },
  {
   "cell_type": "markdown",
   "metadata": {},
   "source": [
    "## Retrieve Tweets"
   ]
  },
  {
   "cell_type": "code",
   "execution_count": 3,
   "metadata": {
    "collapsed": false
   },
   "outputs": [
    {
     "name": "stdout",
     "output_type": "stream",
     "text": [
      "RT @LeftAtLondon: 400. nabisco please hire me https://t.co/ln93M24jUM\n",
      "Sentiment(polarity=0.0, subjectivity=0.0)\n",
      "\n",
      "RT @HistoryTime_: March 6th, 1912 - The Oreo cookie is introduced by Nabisco. https://t.co/3kSmPjkJ6z\n",
      "Sentiment(polarity=0.0, subjectivity=0.0)\n",
      "\n",
      "RT @HistoryTime_: March 6th, 1912 - The Oreo cookie is introduced by Nabisco. https://t.co/3kSmPjkJ6z\n",
      "Sentiment(polarity=0.0, subjectivity=0.0)\n",
      "\n",
      "You could win tix to 2018 NCAA Men’s Final Four! NABISCO is an Official Corporate Partner of the NCAA. #sweepstakes https://t.co/tG12mFxfMh\n",
      "Sentiment(polarity=0.26666666666666666, subjectivity=0.4666666666666666)\n",
      "\n",
      "RT @LeftAtLondon: 400. nabisco please hire me https://t.co/ln93M24jUM\n",
      "Sentiment(polarity=0.0, subjectivity=0.0)\n",
      "\n",
      "RT @HistoryTime_: March 6th, 1912 - The Oreo cookie is introduced by Nabisco. https://t.co/3kSmPjkJ6z\n",
      "Sentiment(polarity=0.0, subjectivity=0.0)\n",
      "\n",
      "You could win tix to 2018 NCAA Men’s Final Four! NABISCO is an Official Corporate Partner of the NCAA. #sweepstakes https://t.co/kcpHbDZ97L\n",
      "Sentiment(polarity=0.26666666666666666, subjectivity=0.4666666666666666)\n",
      "\n",
      "RT @HistoryTime_: March 6th, 1912 - The Oreo cookie is introduced by Nabisco. https://t.co/3kSmPjkJ6z\n",
      "Sentiment(polarity=0.0, subjectivity=0.0)\n",
      "\n",
      "You could win tix to 2018 NCAA Men’s Final Four! NABISCO is an Official Corporate Partner of the NCAA. #sweepstakes https://t.co/jduwi1Dc0R\n",
      "Sentiment(polarity=0.26666666666666666, subjectivity=0.4666666666666666)\n",
      "\n",
      "RT @HistoryTime_: March 6th, 1912 - The Oreo cookie is introduced by Nabisco. https://t.co/3kSmPjkJ6z\n",
      "Sentiment(polarity=0.0, subjectivity=0.0)\n",
      "\n",
      "RT @HistoryTime_: March 6th, 1912 - The Oreo cookie is introduced by Nabisco. https://t.co/3kSmPjkJ6z\n",
      "Sentiment(polarity=0.0, subjectivity=0.0)\n",
      "\n",
      "Enter the Snack Bracket Sweepstakes from NABISCO for your chance to win a trip to the NCAA tournamen https://t.co/3qJwxf2idg\n",
      "Sentiment(polarity=0.8, subjectivity=0.4)\n",
      "\n",
      "You could win tix to 2018 NCAA Men’s Final Four! NABISCO is an Official Corporate Partner of the NCAA. #sweepstakes https://t.co/mwC6Ld5UqA\n",
      "Sentiment(polarity=0.26666666666666666, subjectivity=0.4666666666666666)\n",
      "\n",
      "RT @HistoryTime_: March 6th, 1912 - The Oreo cookie is introduced by Nabisco. https://t.co/3kSmPjkJ6z\n",
      "Sentiment(polarity=0.0, subjectivity=0.0)\n",
      "\n",
      "RT @LeftAtLondon: 400. nabisco please hire me https://t.co/ln93M24jUM\n",
      "Sentiment(polarity=0.0, subjectivity=0.0)\n",
      "\n"
     ]
    }
   ],
   "source": [
    "public_tweets = api.search('nabisco')\n",
    "#CHALLENGE - Instead of printing out each tweet, save each Tweet to a CSV file\n",
    "#and label each one as either 'positive' or 'negative', depending on the sentiment\n",
    "#You can decide the sentiment polarity threshold yourself\n",
    "\n",
    "\n",
    "for tweet in public_tweets:\n",
    "    print(tweet.text)\n",
    "\n",
    "#Step 4 Perform Sentiment Analysis on Tweets\n",
    "    analysis = TextBlob(tweet.text)\n",
    "    print(analysis.sentiment)\n",
    "    print(\"\")"
   ]
  },
  {
   "cell_type": "markdown",
   "metadata": {
    "collapsed": true
   },
   "source": [
    "future functionality could include..."
   ]
  },
  {
   "cell_type": "code",
   "execution_count": null,
   "metadata": {
    "collapsed": true
   },
   "outputs": [],
   "source": []
  }
 ],
 "metadata": {
  "anaconda-cloud": {},
  "kernelspec": {
   "display_name": "Python 3",
   "language": "python",
   "name": "python3"
  },
  "language_info": {
   "codemirror_mode": {
    "name": "ipython",
    "version": 3
   },
   "file_extension": ".py",
   "mimetype": "text/x-python",
   "name": "python",
   "nbconvert_exporter": "python",
   "pygments_lexer": "ipython3",
   "version": "3.6.0"
  }
 },
 "nbformat": 4,
 "nbformat_minor": 1
}
