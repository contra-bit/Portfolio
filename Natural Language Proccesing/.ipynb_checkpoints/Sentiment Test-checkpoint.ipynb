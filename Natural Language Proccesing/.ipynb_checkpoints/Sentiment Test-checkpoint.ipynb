{
 "cells": [
  {
   "cell_type": "code",
   "execution_count": 1,
   "metadata": {
    "collapsed": false
   },
   "outputs": [
    {
     "ename": "ModuleNotFoundError",
     "evalue": "No module named 'urllib2'",
     "output_type": "error",
     "traceback": [
      "\u001b[0;31m---------------------------------------------------------------------------\u001b[0m",
      "\u001b[0;31mModuleNotFoundError\u001b[0m                       Traceback (most recent call last)",
      "\u001b[0;32m<ipython-input-1-e5326faf061b>\u001b[0m in \u001b[0;36m<module>\u001b[0;34m()\u001b[0m\n\u001b[1;32m      7\u001b[0m \u001b[0;32mimport\u001b[0m \u001b[0mtweepy\u001b[0m\u001b[0;34m\u001b[0m\u001b[0m\n\u001b[1;32m      8\u001b[0m \u001b[0;32mfrom\u001b[0m \u001b[0mtextblob\u001b[0m \u001b[0;32mimport\u001b[0m \u001b[0mTextBlob\u001b[0m\u001b[0;34m\u001b[0m\u001b[0m\n\u001b[0;32m----> 9\u001b[0;31m \u001b[0;32mimport\u001b[0m \u001b[0murllib2\u001b[0m\u001b[0;34m\u001b[0m\u001b[0m\n\u001b[0m\u001b[1;32m     10\u001b[0m \u001b[0;32mimport\u001b[0m \u001b[0mjson\u001b[0m\u001b[0;34m\u001b[0m\u001b[0m\n\u001b[1;32m     11\u001b[0m \u001b[0;32mimport\u001b[0m \u001b[0mdatetime\u001b[0m\u001b[0;34m\u001b[0m\u001b[0m\n",
      "\u001b[0;31mModuleNotFoundError\u001b[0m: No module named 'urllib2'"
     ]
    }
   ],
   "source": [
    "# Mehdi Merai. Originally, Twitter part is forked from \n",
    "# Sirajology amazing work. I added the Facebook part as part of \n",
    "# this challenge: https://www.youtube.com/watch?v=o_OZdbCzHUA\n",
    "\n",
    "\n",
    "# Twitter and Facebook Sentiment Analysis\n",
    "import tweepy\n",
    "from textblob import TextBlob\n",
    "import urllib2\n",
    "import json\n",
    "import datetime\n",
    "import time\n",
    "\n",
    "# We enter API Auth coordonates in order to retrieve data from Twitter\n",
    "consumer_key= 'eds2M4bX4a7TVUfhvVQNx2kqv'\n",
    "consumer_secret= '5ukY7rBOSdnhdgCKgtnllrceknGZhCop3m8DtEZDuXk8S5dM6j'\n",
    "\n",
    "access_token='1724753030-2wTI90eF1iobvLSf7gGwJ98Mwo5hKgeDLEts3cX'\n",
    "access_token_secret='mCz0yTQllzKsESva54LFnyrHjWuo4KLFdl3btcRPRa12n'\n",
    "\n",
    "\n",
    "brand = \"Google\"\n",
    "\n",
    "auth = tweepy.OAuthHandler(consumer_key,consumer_secret)\n",
    "auth.set_access_token(access_token,access_token_secret)\n",
    "\n",
    "api = tweepy.API(auth)"
   ]
  },
  {
   "cell_type": "code",
   "execution_count": 4,
   "metadata": {
    "collapsed": false
   },
   "outputs": [
    {
     "ename": "SyntaxError",
     "evalue": "invalid syntax (<ipython-input-4-e4584d16e63b>, line 33)",
     "output_type": "error",
     "traceback": [
      "\u001b[0;36m  File \u001b[0;32m\"<ipython-input-4-e4584d16e63b>\"\u001b[0;36m, line \u001b[0;32m33\u001b[0m\n\u001b[0;31m    except Exception, e:\u001b[0m\n\u001b[0m                    ^\u001b[0m\n\u001b[0;31mSyntaxError\u001b[0m\u001b[0;31m:\u001b[0m invalid syntax\n"
     ]
    }
   ],
   "source": [
    "public_tweets = api.search('Google')\n",
    "\n",
    "print(\"############################################################\")\n",
    "print(\"## HERE IS THE TWITTER PEOPLE FEELING ABOUT\",brand,\"##\")\n",
    "print(\"############################################################\")\n",
    "for tweet in public_tweets:\n",
    "\tprint(tweet.text)\n",
    "\n",
    "\t# TextBlob Devide text into words and tags\n",
    "\t# This technic is called Bags of words model: Tokenize the text and use a lexicon of sentiment to rate the words\n",
    "\tanalysis = TextBlob(tweet.text)\n",
    "\tprint(analysis.sentiment)\n",
    "\n",
    "\n",
    "print(\"############################################################\")\n",
    "print(\"## HERE IS THE TWITTER PEOPLE FEELING ABOUT\",brand,\"##\")\n",
    "print(\"############################################################\")\n",
    "# We enter API Auth coordonates in order to retrieve data from Twitter\n",
    "app_id = \"\"\n",
    "app_secret = \"\" # DO NOT SHARE WITH ANYONE!\n",
    "access_token = app_id + \"|\" + app_secret\n",
    "page_id = 'Google'\n",
    "\n",
    "\n",
    "def request_fb_server(url):\n",
    "   req = urllib2.Request(url)\n",
    "   success = False\n",
    "   while success is False:\n",
    "       try: \n",
    "           response = urllib2.urlopen(req)\n",
    "           if response.getcode() == 200:\n",
    "               success = True\n",
    "       except Exception, e:\n",
    "           print e\n",
    "           time.sleep(5)\n",
    "           \n",
    "           print \"Error for URL %s: %s\" % (url, datetime.datetime.now())\n",
    " \n",
    "\n",
    "   return response.read()\n",
    "\n",
    "\n",
    "def testFacebookPageFeedData(page_id, access_token):\n",
    "   \n",
    "   # We build the URL\n",
    "   link = \"https://graph.facebook.com/v2.6\"\n",
    "\n",
    "   # We can navigate through the FB Graph in order to retreive specific data\n",
    "   # Facebook Graph Doc: https://developers.facebook.com/docs/graph-api\n",
    "   fb_graph_node = \"/\" + page_id + \"/posts\"\n",
    "   parameters = \"/?access_token=%s\" % access_token\n",
    "   url = link + fb_graph_node + parameters\n",
    "   \n",
    "\n",
    "\n",
    "   # We retrieve data from Facebook Graph\n",
    "   data = json.loads(request_fb_server(url))\n",
    "   last_fb_post=1\n",
    "   for x in xrange(last_fb_post,last_fb_post+11): # Select the last 10 posts\n",
    "    if data['data'][x]['message'] != \"\":\n",
    "    \tpost = data['data'][x]['message']\n",
    "    \tprint post\n",
    "    \tblobpost = TextBlob(post)\n",
    "    \tprint blobpost.sentiment\n",
    "\n",
    "testFacebookPageFeedData(page_id, access_token)"
   ]
  },
  {
   "cell_type": "code",
   "execution_count": null,
   "metadata": {
    "collapsed": true
   },
   "outputs": [],
   "source": []
  }
 ],
 "metadata": {
  "anaconda-cloud": {},
  "celltoolbar": "Raw Cell Format",
  "kernelspec": {
   "display_name": "Python 3",
   "language": "python",
   "name": "python3"
  },
  "language_info": {
   "codemirror_mode": {
    "name": "ipython",
    "version": 3
   },
   "file_extension": ".py",
   "mimetype": "text/x-python",
   "name": "python",
   "nbconvert_exporter": "python",
   "pygments_lexer": "ipython3",
   "version": "3.6.0"
  }
 },
 "nbformat": 4,
 "nbformat_minor": 1
}
