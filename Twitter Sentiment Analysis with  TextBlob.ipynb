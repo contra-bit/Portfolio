{
 "cells": [
  {
   "cell_type": "markdown",
   "metadata": {},
   "source": [
    "# Twitter Sentiment Analysis\n",
    "In this example I show how to use Twitters Developer API to aquire real time Tweets by specifing Kewords. I am using the Natrual Language Proccesing libary TextBlob in order too understand the polarity and sujectivity of the respectiv Tweets. \n",
    "\n",
    "**Import Dependcies and Authenticate**"
   ]
  },
  {
   "cell_type": "code",
   "execution_count": 1,
   "metadata": {
    "collapsed": false
   },
   "outputs": [
    {
     "ename": "ModuleNotFoundError",
     "evalue": "No module named 'tweepy'",
     "output_type": "error",
     "traceback": [
      "\u001b[0;31m---------------------------------------------------------------------------\u001b[0m",
      "\u001b[0;31mModuleNotFoundError\u001b[0m                       Traceback (most recent call last)",
      "\u001b[0;32m<ipython-input-1-dd947765d72d>\u001b[0m in \u001b[0;36m<module>\u001b[0;34m()\u001b[0m\n\u001b[0;32m----> 1\u001b[0;31m \u001b[0;32mimport\u001b[0m \u001b[0mtweepy\u001b[0m\u001b[0;34m\u001b[0m\u001b[0m\n\u001b[0m\u001b[1;32m      2\u001b[0m \u001b[0;32mfrom\u001b[0m \u001b[0mtextblob\u001b[0m \u001b[0;32mimport\u001b[0m \u001b[0mTextBlob\u001b[0m\u001b[0;34m\u001b[0m\u001b[0m\n\u001b[1;32m      3\u001b[0m \u001b[0;34m\u001b[0m\u001b[0m\n\u001b[1;32m      4\u001b[0m \u001b[0;31m# Step 1 - Authenticate\u001b[0m\u001b[0;34m\u001b[0m\u001b[0;34m\u001b[0m\u001b[0m\n\u001b[1;32m      5\u001b[0m \u001b[0mconsumer_key\u001b[0m\u001b[0;34m=\u001b[0m \u001b[0;34m'eds2M4bX4a7TVUfhvVQNx2kqv'\u001b[0m\u001b[0;34m\u001b[0m\u001b[0m\n",
      "\u001b[0;31mModuleNotFoundError\u001b[0m: No module named 'tweepy'"
     ]
    }
   ],
   "source": [
    "import tweepy\n",
    "from textblob import TextBlob\n",
    "\n",
    "# Step 1 - Authenticate\n",
    "consumer_key= 'eds2M4bX4a7TVUfhvVQNx2kqv'\n",
    "consumer_secret= '5ukY7rBOSdnhdgCKgtnllrceknGZhCop3m8DtEZDuXk8S5dM6j'\n",
    "\n",
    "access_token='1724753030-2wTI90eF1iobvLSf7gGwJ98Mwo5hKgeDLEts3cX'\n",
    "access_token_secret='mCz0yTQllzKsESva54LFnyrHjWuo4KLFdl3btcRPRa12n'\n",
    "\n",
    "auth = tweepy.OAuthHandler(consumer_key, consumer_secret)\n",
    "auth.set_access_token(access_token, access_token_secret)\n",
    "\n",
    "api = tweepy.API(auth)"
   ]
  },
  {
   "cell_type": "markdown",
   "metadata": {},
   "source": [
    "## Retrieve Tweets"
   ]
  },
  {
   "cell_type": "code",
   "execution_count": 7,
   "metadata": {
    "collapsed": false
   },
   "outputs": [
    {
     "name": "stdout",
     "output_type": "stream",
     "text": [
      "RT @MyMilitarySvgs: Don't miss this HOT #coupon to save $2 on your fave @Nabisco and @Coca-Cola products this MARCH! 🖨 https://t.co/FIwVFEb…\n",
      "Sentiment(polarity=0.3125, subjectivity=0.8500000000000001)\n",
      "\n",
      "If you're looking for work in #Natchitoches, LA, check out this #job: https://t.co/8S89WoFcNg #Sales #Hiring #CareerArc\n",
      "Sentiment(polarity=0.0, subjectivity=0.0)\n",
      "\n",
      "Love Oreo, Cadbury and Milka? Join #TeamMDLZ in #GulfShores, AL! https://t.co/msh1hVUQH9 #Sales #Job #Jobs #Hiring #CareerArc\n",
      "Sentiment(polarity=0.625, subjectivity=0.6)\n",
      "\n",
      "Want to work at MDLZ? We're #hiring in #Kalispell, MT! Click for details: https://t.co/UEucbw4bti #Sales #Job #Jobs #CareerArc\n",
      "Sentiment(polarity=0.0, subjectivity=0.0)\n",
      "\n",
      "RT @MyMilitarySvgs: Don't miss this HOT #coupon to save $2 on your fave @Nabisco and @Coca-Cola products this MARCH! 🖨 https://t.co/FIwVFEb…\n",
      "Sentiment(polarity=0.3125, subjectivity=0.8500000000000001)\n",
      "\n",
      "RT @StamperTV: FUCK YOU TEDDY GRAHAMS @NABISCO https://t.co/UYaTnYfu2O\n",
      "Sentiment(polarity=-0.4, subjectivity=0.6)\n",
      "\n",
      "RT @MyMilitarySvgs: Don't miss this HOT #coupon to save $2 on your fave @Nabisco and @Coca-Cola products this MARCH! 🖨 https://t.co/FIwVFEb…\n",
      "Sentiment(polarity=0.3125, subjectivity=0.8500000000000001)\n",
      "\n",
      "@BCTGM_Nabisco @OregonState @MDLZ it looks like chubs had too much NABISCO. I'd be full of rage too, as well as full of fat. Ugh.\n",
      "Sentiment(polarity=0.3, subjectivity=0.43333333333333335)\n",
      "\n",
      "You could win tix to 2018 NCAA Men’s Final Four! NABISCO is an Official Corporate Partner of the NCAA. #sweepstakes https://t.co/EC3Wz0bE6n\n",
      "Sentiment(polarity=0.26666666666666666, subjectivity=0.4666666666666666)\n",
      "\n",
      "RT @MyMilitarySvgs: Don't miss this HOT #coupon to save $2 on your fave @Nabisco and @Coca-Cola products this MARCH! 🖨 https://t.co/FIwVFEb…\n",
      "Sentiment(polarity=0.3125, subjectivity=0.8500000000000001)\n",
      "\n",
      "Peep my #limitededition oreo game.\n",
      "...\n",
      "#peeps x #oreo #nabisco #cookies #artificial #brooklyn… https://t.co/ImRTk3lyjb\n",
      "Sentiment(polarity=-0.5, subjectivity=0.7)\n",
      "\n",
      "I f led a lawsuit against Nabisco for blatant racism. I opened up a box of premium saltines and jvery one of them was a cracker.\n",
      "Sentiment(polarity=-0.5, subjectivity=0.5)\n",
      "\n",
      "どなたか譲って下さい 3/15 (水) Jリーグ YBCルヴァンカップ 第1節 セレッソ大阪 vs 横浜F・マリノス キンチョウスタジアム (大阪) https://t.co/CaTJNHcTiz #ルヴァンカップ #ルヴァン杯 #JリーグYBCルヴァンカップ #Jリーグ\n",
      "Sentiment(polarity=0.0, subjectivity=0.0)\n",
      "\n",
      "I'm still boycotting OREO cookies 🍪 but man it's tough. You think we can get a reprieve @realDonaldTrump ? #nabisco #oreo #cookies\n",
      "Sentiment(polarity=-0.3888888888888889, subjectivity=0.8333333333333334)\n",
      "\n",
      "Nabisco cookies and we be here on Czech and fights, but _ “Just stay home with you.\n",
      "Sentiment(polarity=0.0, subjectivity=0.0)\n",
      "\n"
     ]
    }
   ],
   "source": [
    "public_tweets = api.search('nabisco')\n",
    "#CHALLENGE - Instead of printing out each tweet, save each Tweet to a CSV file\n",
    "#and label each one as either 'positive' or 'negative', depending on the sentiment\n",
    "#You can decide the sentiment polarity threshold yourself\n",
    "\n",
    "\n",
    "for tweet in public_tweets:\n",
    "    print(tweet.text)\n",
    "\n",
    "#Step 4 Perform Sentiment Analysis on Tweets\n",
    "    analysis = TextBlob(tweet.text)\n",
    "    print(analysis.sentiment)\n",
    "    print(\"\")"
   ]
  },
  {
   "cell_type": "markdown",
   "metadata": {
    "collapsed": true
   },
   "source": [
    "future functionality could include..."
   ]
  },
  {
   "cell_type": "code",
   "execution_count": null,
   "metadata": {
    "collapsed": true
   },
   "outputs": [],
   "source": []
  }
 ],
 "metadata": {
  "anaconda-cloud": {},
  "kernelspec": {
   "display_name": "Python [default]",
   "language": "python",
   "name": "python3"
  },
  "language_info": {
   "codemirror_mode": {
    "name": "ipython",
    "version": 3
   },
   "file_extension": ".py",
   "mimetype": "text/x-python",
   "name": "python",
   "nbconvert_exporter": "python",
   "pygments_lexer": "ipython3",
   "version": "3.5.2"
  }
 },
 "nbformat": 4,
 "nbformat_minor": 1
}
